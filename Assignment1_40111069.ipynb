{
  "metadata": {
    "kernelspec": {
      "name": "python",
      "display_name": "Python (Pyodide)",
      "language": "python"
    },
    "language_info": {
      "codemirror_mode": {
        "name": "python",
        "version": 3
      },
      "file_extension": ".py",
      "mimetype": "text/x-python",
      "name": "python",
      "nbconvert_exporter": "python",
      "pygments_lexer": "ipython3",
      "version": "3.8"
    }
  },
  "nbformat_minor": 5,
  "nbformat": 4,
  "cells": [
    {
      "cell_type": "markdown",
      "source": "M ROHIT NAGA SYAM SAI",
      "metadata": {
        "tags": []
      },
      "id": "e08f1a5c-a8f5-4b85-890d-568440ce67ac"
    },
    {
      "cell_type": "markdown",
      "source": "40111069",
      "metadata": {},
      "id": "c361531b-f923-49a1-8cfc-e16cb938f7fe"
    },
    {
      "cell_type": "markdown",
      "source": "BE CSE D3",
      "metadata": {},
      "id": "00fdbfee-a114-46ba-9c2f-1377ca4bf29b"
    },
    {
      "cell_type": "markdown",
      "source": "                                               ASSIGNMENT",
      "metadata": {},
      "id": "31b80d80-6c7c-42ca-b75f-c46370f65c26"
    },
    {
      "cell_type": "markdown",
      "source": "1. What is 7 to the power of 4?",
      "metadata": {},
      "id": "dd381723-f263-4996-ae70-3febc4051645"
    },
    {
      "cell_type": "code",
      "source": "7 ** 4",
      "metadata": {},
      "execution_count": 4,
      "outputs": [
        {
          "execution_count": 4,
          "output_type": "execute_result",
          "data": {
            "text/plain": [
              "2401"
            ]
          },
          "metadata": {}
        }
      ],
      "id": "8f213423-ec35-422c-b625-b38ce2b5171f"
    },
    {
      "cell_type": "markdown",
      "source": "2.  Split this string into a list. \n    s = \"Hi there Sam!\"",
      "metadata": {},
      "id": "a193d19e-880c-4aff-8401-7e6d70db26f6"
    },
    {
      "cell_type": "code",
      "source": "s = \"Hi there Sam!\"\ns.split()\n",
      "metadata": {},
      "execution_count": 5,
      "outputs": [
        {
          "execution_count": 5,
          "output_type": "execute_result",
          "data": {
            "text/plain": [
              "['Hi', 'there', 'Sam!']"
            ]
          },
          "metadata": {}
        }
      ],
      "id": "a60e129c-ac98-4681-af2c-bc40c8bd97af"
    },
    {
      "cell_type": "markdown",
      "source": "3.Given the variables\n    planet = \"Earth\"\n    diameter = 12742\nUse .format() to print the following string\nThe diameter of Earth is 12742 kilometers.",
      "metadata": {},
      "id": "5f22aa3b-4db6-4c9b-8ed1-5b16e61103f6"
    },
    {
      "cell_type": "code",
      "source": "planet = \"Earth\"\ndiameter = 12742\n\nprint(\"The diameter of {} is {} kilometers.\".format(planet,diameter))",
      "metadata": {},
      "execution_count": 6,
      "outputs": [
        {
          "name": "stdout",
          "output_type": "stream",
          "text": "The diameter of Earth is 12742 kilometers.\n"
        }
      ],
      "id": "9f7cb1aa-c63d-4ccb-af26-7e534ee2584b"
    },
    {
      "cell_type": "markdown",
      "source": "4.Given this nested list, use indexing to grab the word \"hello\n    lst = [1,2,[3,4],[5,[100,200,['hello']],23,11],1,7]",
      "metadata": {},
      "id": "41464f01-143b-4b24-8b89-e615c3037a0d"
    },
    {
      "cell_type": "code",
      "source": "lst = [1,2,[3,4],[5,[100,200,['hello']],23,11],1,7]\n\nlst[3][1][2][0]",
      "metadata": {},
      "execution_count": 7,
      "outputs": [
        {
          "execution_count": 7,
          "output_type": "execute_result",
          "data": {
            "text/plain": [
              "'hello'"
            ]
          },
          "metadata": {}
        }
      ],
      "id": "cbe36447-d7bf-4539-b0a4-64021aea4a75"
    },
    {
      "cell_type": "markdown",
      "source": "5. Given this nested dictionary grab the word \"hello\". Be prepared, this will be annoying/tricky\n    d = {'k1':[1,2,3,{'tricky':['oh','man','inception',{'target':[1,2,3,'hello']}]}]}\n",
      "metadata": {},
      "id": "d04b2976-e081-495c-9031-32bcac191ffa"
    },
    {
      "cell_type": "code",
      "source": "d = {'k1':[1,2,3,{'tricky':['oh','man','inception',{'target':[1,2,3,'hello']}]}]}\n\nd['k1'][3]['tricky'][3]['target'][3]",
      "metadata": {},
      "execution_count": 8,
      "outputs": [
        {
          "execution_count": 8,
          "output_type": "execute_result",
          "data": {
            "text/plain": [
              "'hello'"
            ]
          },
          "metadata": {}
        }
      ],
      "id": "4a12f8a9-aa8f-4493-a1e2-28446937990d"
    },
    {
      "cell_type": "markdown",
      "source": "6.What is the main difference between a tuple and a list?",
      "metadata": {},
      "id": "db0e7827-5c85-489e-bd96-aa5632d4ba05"
    },
    {
      "cell_type": "markdown",
      "source": "ans)  Lists are mutable whereas Tuples are immutable.",
      "metadata": {},
      "id": "a9a29d9c-3883-4585-98ba-a5985b109d9d"
    },
    {
      "cell_type": "code",
      "source": "",
      "metadata": {},
      "execution_count": null,
      "outputs": [],
      "id": "4bacbed6-b8f2-4157-aaae-87e6ac6edf91"
    },
    {
      "cell_type": "markdown",
      "source": "7.Create a function that grabs the email website domain from a string in the form : user@domain.com\n    So for example, passing \"user@domain.com\" would return: domain.com\n",
      "metadata": {},
      "id": "ce5802a6-a393-4628-98c6-15df5afb4327"
    },
    {
      "cell_type": "code",
      "source": "def domainGet(email):\n    return email.split('@')[-1]\ndomainGet('user@domain.com')",
      "metadata": {},
      "execution_count": 10,
      "outputs": [
        {
          "execution_count": 10,
          "output_type": "execute_result",
          "data": {
            "text/plain": [
              "'domain.com'"
            ]
          },
          "metadata": {}
        }
      ],
      "id": "10b9a0ea-aa60-4726-8cf8-69b720f7173a"
    },
    {
      "cell_type": "markdown",
      "source": "8. Create a basic function that returns True if the word 'dog' is contained in the input string. \n    Don't worry about edge cases like a punctuation being attached to the word dog, but do account for capitalization.\n",
      "metadata": {},
      "id": "2310a599-103e-4a4b-ab6b-2108f145740b"
    },
    {
      "cell_type": "code",
      "source": "def findDog(st):\n    return 'dog' in st.lower().split()\nfindDog('Is there a dog here?')",
      "metadata": {},
      "execution_count": 11,
      "outputs": [
        {
          "execution_count": 11,
          "output_type": "execute_result",
          "data": {
            "text/plain": [
              "True"
            ]
          },
          "metadata": {}
        }
      ],
      "id": "9f262ed8-bc0a-4436-874c-ac1b843f9261"
    },
    {
      "cell_type": "markdown",
      "source": "9. Use lambda expressions and the filter() function to filter out words from a list that don't start with the letter 's'.\n    For example:\n    seq = ['soup','dog','salad','cat','great']\n    should be filtered down to:    ['soup','salad']\n",
      "metadata": {},
      "id": "da9e7782-9019-465c-9481-fdc012aa905a"
    },
    {
      "cell_type": "code",
      "source": "seq = ['soup','dog','salad','cat','great']\n\nlist(filter(lambda word: word[0]=='s',seq))",
      "metadata": {},
      "execution_count": 15,
      "outputs": [
        {
          "execution_count": 15,
          "output_type": "execute_result",
          "data": {
            "text/plain": [
              "['soup', 'salad']"
            ]
          },
          "metadata": {}
        }
      ],
      "id": "87fc6c30-3aab-425f-bbcd-ce0f2110213a"
    },
    {
      "cell_type": "markdown",
      "source": "10. You are driving a little too fast, and a police officer stops you. Write a function\n      to return one of 3 possible results: \"No ticket\", \"Small ticket\", or \"Big Ticket\". \n      If your speed is 60 or less, the result is \"No Ticket\". If speed is between 61 \n      and 80 inclusive, the result is \"Small Ticket\". If speed is 81 or more, the result is \"Big    Ticket\".\n     Unless it is your birthday (encoded as a boolean value in the parameters of the function) --\n     on your birthday, your speed can be 5 higher in all cases. \n    \n\n",
      "metadata": {},
      "id": "6a07916a-6088-4dd0-9d79-445e7622727f"
    },
    {
      "cell_type": "code",
      "source": "def caught_speeding(speed, is_birthday):\n    \n    if is_birthday:\n        speeding = speed - 5\n    else:\n        speeding = speed\n    \n    if speeding > 80:\n        return 'Big Ticket'\n    elif speeding > 60:\n        return 'Small Ticket'\n    else:\n        return 'No Ticket'",
      "metadata": {},
      "execution_count": 18,
      "outputs": [],
      "id": "4e04dba8-8c91-4c74-9eda-7aee1e1f802c"
    },
    {
      "cell_type": "code",
      "source": "caught_speeding(81,True)",
      "metadata": {},
      "execution_count": 19,
      "outputs": [
        {
          "execution_count": 19,
          "output_type": "execute_result",
          "data": {
            "text/plain": [
              "'Small Ticket'"
            ]
          },
          "metadata": {}
        }
      ],
      "id": "7df89b03-9933-4eaf-9265-a17cbd9f498f"
    },
    {
      "cell_type": "code",
      "source": "caught_speeding(81,False)",
      "metadata": {},
      "execution_count": 20,
      "outputs": [
        {
          "execution_count": 20,
          "output_type": "execute_result",
          "data": {
            "text/plain": [
              "'Big Ticket'"
            ]
          },
          "metadata": {}
        }
      ],
      "id": "78dd5423-d79a-4b97-807e-100f98f0782e"
    }
  ]
}